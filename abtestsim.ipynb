{
 "cells": [
  {
   "cell_type": "code",
   "execution_count": 1,
   "id": "3b5db49a",
   "metadata": {},
   "outputs": [],
   "source": [
    "import pandas as pd\n",
    "import numpy as np"
   ]
  },
  {
   "cell_type": "code",
   "execution_count": 2,
   "id": "706294c8",
   "metadata": {},
   "outputs": [],
   "source": [
    "# Setting random seed for reproducibility\n",
    "np.random.seed(42)\n",
    "\n",
    "# Generating user IDs\n",
    "user_ids = np.arange(1, 10001)\n",
    "\n",
    "# Simulating group assignment (A/B groups)\n",
    "groups = np.random.choice(['A', 'B'], size=10000)"
   ]
  },
  {
   "cell_type": "code",
   "execution_count": 3,
   "id": "e3a16f3b",
   "metadata": {},
   "outputs": [],
   "source": [
    "# Simulating conversion outcome (1 = converted, 0 = not converted)\n",
    "conversions = np.where(groups == 'A', \n",
    "                       np.random.binomial(1, 0.12, size=10000),  # 12% conversion rate for group A\n",
    "                       np.random.binomial(1, 0.13, size=10000))  # 13% conversion rate for group B\n",
    "\n",
    "# Create the DataFrame\n",
    "df = pd.DataFrame({\n",
    "    'user_id': user_ids,\n",
    "    'group': groups,\n",
    "    'conversion': conversions\n",
    "})\n"
   ]
  },
  {
   "cell_type": "code",
   "execution_count": 4,
   "id": "15542b15",
   "metadata": {},
   "outputs": [
    {
     "name": "stdout",
     "output_type": "stream",
     "text": [
      "A/B Test Simulation dataset created and saved as 'ab_test_simulation.csv'.\n"
     ]
    }
   ],
   "source": [
    "df.to_csv('/Users/ajayrawat/Downloads/ab_test_simulation.csv', index=False)\n",
    "\n",
    "print(\"A/B Test Simulation dataset created and saved as 'ab_test_simulation.csv'.\")"
   ]
  },
  {
   "cell_type": "markdown",
   "id": "3993f9b4",
   "metadata": {},
   "source": [
    "Created a simulated A/B test dataset for 10,000 users, randomly assigned them to two groups (A and B), and simulated conversion outcomes with different conversion rates for each group.\n",
    "\n",
    "Group A has a 12% conversion rate: This means that, for the users in Group A, 12% of them are expected to convert (e.g., make a purchase, click a link, etc.).\n",
    "\n",
    "Group B has a 13% conversion rate: Similarly, for Group B, 13% of users are expected to convert."
   ]
  },
  {
   "cell_type": "code",
   "execution_count": 5,
   "id": "b9d03cbe",
   "metadata": {},
   "outputs": [],
   "source": [
    "from scipy import stats\n",
    "import matplotlib.pyplot as plt\n",
    "import seaborn as sns"
   ]
  },
  {
   "cell_type": "code",
   "execution_count": 6,
   "id": "4cb2d880",
   "metadata": {},
   "outputs": [],
   "source": [
    "df = pd.read_csv('/Users/ajayrawat/Downloads/ab_test_simulation.csv')"
   ]
  },
  {
   "cell_type": "code",
   "execution_count": 9,
   "id": "178d1c93",
   "metadata": {},
   "outputs": [
    {
     "data": {
      "text/html": [
       "<div>\n",
       "<style scoped>\n",
       "    .dataframe tbody tr th:only-of-type {\n",
       "        vertical-align: middle;\n",
       "    }\n",
       "\n",
       "    .dataframe tbody tr th {\n",
       "        vertical-align: top;\n",
       "    }\n",
       "\n",
       "    .dataframe thead th {\n",
       "        text-align: right;\n",
       "    }\n",
       "</style>\n",
       "<table border=\"1\" class=\"dataframe\">\n",
       "  <thead>\n",
       "    <tr style=\"text-align: right;\">\n",
       "      <th></th>\n",
       "      <th>user_id</th>\n",
       "      <th>group</th>\n",
       "      <th>conversion</th>\n",
       "    </tr>\n",
       "  </thead>\n",
       "  <tbody>\n",
       "    <tr>\n",
       "      <th>0</th>\n",
       "      <td>1</td>\n",
       "      <td>A</td>\n",
       "      <td>0</td>\n",
       "    </tr>\n",
       "    <tr>\n",
       "      <th>1</th>\n",
       "      <td>2</td>\n",
       "      <td>B</td>\n",
       "      <td>0</td>\n",
       "    </tr>\n",
       "    <tr>\n",
       "      <th>2</th>\n",
       "      <td>3</td>\n",
       "      <td>A</td>\n",
       "      <td>0</td>\n",
       "    </tr>\n",
       "    <tr>\n",
       "      <th>3</th>\n",
       "      <td>4</td>\n",
       "      <td>A</td>\n",
       "      <td>0</td>\n",
       "    </tr>\n",
       "    <tr>\n",
       "      <th>4</th>\n",
       "      <td>5</td>\n",
       "      <td>A</td>\n",
       "      <td>0</td>\n",
       "    </tr>\n",
       "    <tr>\n",
       "      <th>5</th>\n",
       "      <td>6</td>\n",
       "      <td>B</td>\n",
       "      <td>0</td>\n",
       "    </tr>\n",
       "    <tr>\n",
       "      <th>6</th>\n",
       "      <td>7</td>\n",
       "      <td>A</td>\n",
       "      <td>0</td>\n",
       "    </tr>\n",
       "    <tr>\n",
       "      <th>7</th>\n",
       "      <td>8</td>\n",
       "      <td>A</td>\n",
       "      <td>0</td>\n",
       "    </tr>\n",
       "    <tr>\n",
       "      <th>8</th>\n",
       "      <td>9</td>\n",
       "      <td>A</td>\n",
       "      <td>0</td>\n",
       "    </tr>\n",
       "    <tr>\n",
       "      <th>9</th>\n",
       "      <td>10</td>\n",
       "      <td>B</td>\n",
       "      <td>0</td>\n",
       "    </tr>\n",
       "    <tr>\n",
       "      <th>10</th>\n",
       "      <td>11</td>\n",
       "      <td>A</td>\n",
       "      <td>0</td>\n",
       "    </tr>\n",
       "    <tr>\n",
       "      <th>11</th>\n",
       "      <td>12</td>\n",
       "      <td>A</td>\n",
       "      <td>0</td>\n",
       "    </tr>\n",
       "    <tr>\n",
       "      <th>12</th>\n",
       "      <td>13</td>\n",
       "      <td>A</td>\n",
       "      <td>0</td>\n",
       "    </tr>\n",
       "    <tr>\n",
       "      <th>13</th>\n",
       "      <td>14</td>\n",
       "      <td>A</td>\n",
       "      <td>0</td>\n",
       "    </tr>\n",
       "    <tr>\n",
       "      <th>14</th>\n",
       "      <td>15</td>\n",
       "      <td>B</td>\n",
       "      <td>0</td>\n",
       "    </tr>\n",
       "    <tr>\n",
       "      <th>15</th>\n",
       "      <td>16</td>\n",
       "      <td>A</td>\n",
       "      <td>0</td>\n",
       "    </tr>\n",
       "    <tr>\n",
       "      <th>16</th>\n",
       "      <td>17</td>\n",
       "      <td>B</td>\n",
       "      <td>0</td>\n",
       "    </tr>\n",
       "    <tr>\n",
       "      <th>17</th>\n",
       "      <td>18</td>\n",
       "      <td>B</td>\n",
       "      <td>0</td>\n",
       "    </tr>\n",
       "    <tr>\n",
       "      <th>18</th>\n",
       "      <td>19</td>\n",
       "      <td>B</td>\n",
       "      <td>0</td>\n",
       "    </tr>\n",
       "    <tr>\n",
       "      <th>19</th>\n",
       "      <td>20</td>\n",
       "      <td>A</td>\n",
       "      <td>0</td>\n",
       "    </tr>\n",
       "    <tr>\n",
       "      <th>20</th>\n",
       "      <td>21</td>\n",
       "      <td>B</td>\n",
       "      <td>0</td>\n",
       "    </tr>\n",
       "    <tr>\n",
       "      <th>21</th>\n",
       "      <td>22</td>\n",
       "      <td>A</td>\n",
       "      <td>0</td>\n",
       "    </tr>\n",
       "    <tr>\n",
       "      <th>22</th>\n",
       "      <td>23</td>\n",
       "      <td>B</td>\n",
       "      <td>0</td>\n",
       "    </tr>\n",
       "    <tr>\n",
       "      <th>23</th>\n",
       "      <td>24</td>\n",
       "      <td>B</td>\n",
       "      <td>0</td>\n",
       "    </tr>\n",
       "    <tr>\n",
       "      <th>24</th>\n",
       "      <td>25</td>\n",
       "      <td>B</td>\n",
       "      <td>0</td>\n",
       "    </tr>\n",
       "  </tbody>\n",
       "</table>\n",
       "</div>"
      ],
      "text/plain": [
       "    user_id group  conversion\n",
       "0         1     A           0\n",
       "1         2     B           0\n",
       "2         3     A           0\n",
       "3         4     A           0\n",
       "4         5     A           0\n",
       "5         6     B           0\n",
       "6         7     A           0\n",
       "7         8     A           0\n",
       "8         9     A           0\n",
       "9        10     B           0\n",
       "10       11     A           0\n",
       "11       12     A           0\n",
       "12       13     A           0\n",
       "13       14     A           0\n",
       "14       15     B           0\n",
       "15       16     A           0\n",
       "16       17     B           0\n",
       "17       18     B           0\n",
       "18       19     B           0\n",
       "19       20     A           0\n",
       "20       21     B           0\n",
       "21       22     A           0\n",
       "22       23     B           0\n",
       "23       24     B           0\n",
       "24       25     B           0"
      ]
     },
     "execution_count": 9,
     "metadata": {},
     "output_type": "execute_result"
    }
   ],
   "source": [
    "df.head(25)"
   ]
  },
  {
   "cell_type": "code",
   "execution_count": 10,
   "id": "ca2302ce",
   "metadata": {},
   "outputs": [
    {
     "data": {
      "image/png": "[encoded data removed]",
      "text/plain": [
       "<Figure size 640x480 with 1 Axes>"
      ]
     },
     "metadata": {},
     "output_type": "display_data"
    },
    {
     "data": {
      "image/png": "[encoded data removed]",
      "text/plain": [
       "<Figure size 640x480 with 1 Axes>"
      ]
     },
     "metadata": {},
     "output_type": "display_data"
    }
   ],
   "source": [
    "# Distribution of Variables\n",
    "sns.countplot(x='group', data=df)\n",
    "plt.title('Distribution of Groups')\n",
    "plt.show()\n",
    "\n",
    "sns.countplot(x='conversion', data=df)\n",
    "plt.title('Conversion Distribution')\n",
    "plt.show()"
   ]
  },
  {
   "cell_type": "code",
   "execution_count": 11,
   "id": "7d338d6b",
   "metadata": {},
   "outputs": [],
   "source": [
    "# Converting 'group' column to category type and 'conversion' to numeric\n",
    "df['group'] = df['group'].astype('category')\n",
    "df['conversion'] = pd.to_numeric(df['conversion'], errors='coerce')\n",
    "\n",
    "# Calculating conversion rates by group\n",
    "conversion_summary = df.groupby('group')['conversion'].agg(['mean', 'count', 'sum'])"
   ]
  },
  {
   "cell_type": "code",
   "execution_count": 12,
   "id": "1cff3ff0",
   "metadata": {},
   "outputs": [],
   "source": [
    "# Performing a T-test to compare conversion rates between group A and B\n",
    "group_A = df[df['group'] == 'A']['conversion']\n",
    "group_B = df[df['group'] == 'B']['conversion']\n",
    "\n",
    "t_stat, p_ttest = stats.ttest_ind(group_A, group_B)"
   ]
  },
  {
   "cell_type": "code",
   "execution_count": 13,
   "id": "9224619b",
   "metadata": {},
   "outputs": [],
   "source": [
    "# Performing a Chi-Square test to compare conversion rates by creating a contingency table\n",
    "contingency_table = pd.crosstab(df['group'], df['conversion'])\n",
    "\n",
    "chi2_stat, p_chi2, dof, expected = stats.chi2_contingency(contingency_table)"
   ]
  },
  {
   "cell_type": "code",
   "execution_count": 19,
   "id": "21c995dd",
   "metadata": {},
   "outputs": [
    {
     "data": {
      "image/png": "[encoded data removed]",
      "text/plain": [
       "<Figure size 640x480 with 1 Axes>"
      ]
     },
     "metadata": {},
     "output_type": "display_data"
    }
   ],
   "source": [
    "# Visualizing Conversion Rates by Group\n",
    "ax = sns.barplot(x='group', y='conversion', data=df, ci=95)\n",
    "\n",
    "for p in ax.patches:\n",
    "    ax.annotate(f'{p.get_height() * 100:.1f}%', \n",
    "                (p.get_x() + p.get_width() / 2., p.get_height()), \n",
    "                ha='center', va='center', \n",
    "                fontsize=12, color='black', \n",
    "                xytext=(0, 5),  # 5 points vertical offset\n",
    "                textcoords='offset points')\n",
    "\n",
    "plt.title(\"Conversion Rate by Group\")\n",
    "plt.ylabel(\"Conversion Rate\")\n",
    "plt.show()"
   ]
  },
  {
   "cell_type": "code",
   "execution_count": 20,
   "id": "013b3487",
   "metadata": {},
   "outputs": [
    {
     "name": "stdout",
     "output_type": "stream",
     "text": [
      "Conversion Summary by Group:\n",
      "           mean  count  sum\n",
      "group                      \n",
      "A      0.118691   5013  595\n",
      "B      0.132745   4987  662\n",
      "\n",
      "T-Test Results: t-statistic = -2.1199, p-value = 0.0340\n",
      "\n",
      "Chi-Square Test Results: chi2-statistic = 4.3659, p-value = 0.0367\n"
     ]
    }
   ],
   "source": [
    "# Output results\n",
    "print(\"Conversion Summary by Group:\")\n",
    "print(conversion_summary)\n",
    "print(\"\\nT-Test Results: t-statistic = {:.4f}, p-value = {:.4f}\".format(t_stat, p_ttest))\n",
    "print(\"\\nChi-Square Test Results: chi2-statistic = {:.4f}, p-value = {:.4f}\".format(chi2_stat, p_chi2))"
   ]
  },
  {
   "cell_type": "markdown",
   "id": "078535d4",
   "metadata": {},
   "source": [
    "### Checking hypothesis\n",
    "\n",
    "Null Hypothesis (H₀): It suggests that there is no difference or no effect in the data you're testing.\n",
    "\n",
    "Alternative Hypothesis (H₁): It suggests that there is a difference or an effect in the data you're testing."
   ]
  },
  {
   "cell_type": "code",
   "execution_count": 16,
   "id": "b7e13f1c",
   "metadata": {},
   "outputs": [
    {
     "name": "stdout",
     "output_type": "stream",
     "text": [
      "\n",
      "T-Test: The difference between the groups is statistically significant (reject H0).\n",
      "Chi-Square Test: There is an association between the group and conversion (reject H0).\n"
     ]
    }
   ],
   "source": [
    "# Interpretation\n",
    "if p_ttest < 0.05:\n",
    "    print(\"\\nT-Test: The difference between the groups is statistically significant (reject H0).\")\n",
    "else:\n",
    "    print(\"\\nT-Test: No significant difference found (fail to reject H0).\")\n",
    "\n",
    "if p_chi2 < 0.05:\n",
    "    print(\"Chi-Square Test: There is an association between the group and conversion (reject H0).\")\n",
    "else:\n",
    "    print(\"Chi-Square Test: No association between group and conversion (fail to reject H0).\")"
   ]
  },
  {
   "cell_type": "markdown",
   "id": "81c34fe3",
   "metadata": {},
   "source": [
    "### Results and Interpretation:\n",
    "\n",
    "The results show that there is a statistically significant difference in conversion rates between Group A and Group B. The T-test results indicate that the observed difference is unlikely to be due to random chance (p-value = 0.0340), so we reject the null hypothesis (H0), which means that the homepage design change (from A to B) likely had an effect on the conversion rate. Similarly, the Chi-Square test results (p-value = 0.0367) suggest that there is an association between the group and conversion outcome, further supporting the idea that the change in design influenced user behavior."
   ]
  },
  {
   "cell_type": "markdown",
   "id": "00c3650f",
   "metadata": {},
   "source": [
    "### A/B Test:\n",
    "\n",
    "In A/B testing, we compare two variations (Group A and Group B) to see if a change in one of them leads to a significant improvement in a key metric (like conversion rate).\n",
    "\n",
    "In this case, Group A represents the current homepage design, and Group B represents the new homepage design. By running A/B tests, we are trying to determine if the new design (Group B) leads to better conversion rates (more users completing the desired action, like making a purchase or signing up).\n",
    "\n",
    "The T-test and Chi-Square test are statistical methods used to assess whether the difference between the conversion rates of the two groups is statistically significant or if it could have occurred by chance.\n",
    "\n",
    "T-test: Compares the means of the two groups to see if the difference is significant. In this case, it shows that the difference in conversion rates between Group A and Group B is statistically significant (with a p-value of 0.0340).\n",
    "\n",
    "Chi-Square test: Checks for an association between the two categorical variables: the group (A or B) and whether the user converted. The result (p-value = 0.0367) shows that there is a significant association between the group and the conversion outcome, indicating that the design change likely impacted the conversion rates.\n",
    "\n",
    "In summary, by running these statistical tests, we are confirming that the new homepage design (Group B) led to a measurable increase in conversions, which is the goal of A/B testing: to determine whether a change will improve performance."
   ]
  },
  {
   "cell_type": "code",
   "execution_count": null,
   "id": "a3ad44b9",
   "metadata": {},
   "outputs": [],
   "source": []
  }
 ],
 "metadata": {
  "kernelspec": {
   "display_name": "Python 3 (ipykernel)",
   "language": "python",
   "name": "python3"
  },
  "language_info": {
   "codemirror_mode": {
    "name": "ipython",
    "version": 3
   },
   "file_extension": ".py",
   "mimetype": "text/x-python",
   "name": "python",
   "nbconvert_exporter": "python",
   "pygments_lexer": "ipython3",
   "version": "3.9.13"
  }
 },
 "nbformat": 4,
 "nbformat_minor": 5
}
